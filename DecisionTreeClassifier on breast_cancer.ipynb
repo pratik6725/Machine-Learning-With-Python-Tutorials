{
 "cells": [
  {
   "cell_type": "code",
   "execution_count": 1,
   "metadata": {},
   "outputs": [
    {
     "name": "stdout",
     "output_type": "stream",
     "text": [
      "         id diagnosis  radius_mean  texture_mean  perimeter_mean  area_mean  \\\n",
      "0    842302         M        17.99         10.38          122.80     1001.0   \n",
      "1    842517         M        20.57         17.77          132.90     1326.0   \n",
      "2  84300903         M        19.69         21.25          130.00     1203.0   \n",
      "3  84348301         M        11.42         20.38           77.58      386.1   \n",
      "4  84358402         M        20.29         14.34          135.10     1297.0   \n",
      "\n",
      "   smoothness_mean  compactness_mean  concavity_mean  concave points_mean  \\\n",
      "0          0.11840           0.27760          0.3001              0.14710   \n",
      "1          0.08474           0.07864          0.0869              0.07017   \n",
      "2          0.10960           0.15990          0.1974              0.12790   \n",
      "3          0.14250           0.28390          0.2414              0.10520   \n",
      "4          0.10030           0.13280          0.1980              0.10430   \n",
      "\n",
      "            ...             radius_worst  texture_worst  perimeter_worst  \\\n",
      "0           ...                    25.38          17.33           184.60   \n",
      "1           ...                    24.99          23.41           158.80   \n",
      "2           ...                    23.57          25.53           152.50   \n",
      "3           ...                    14.91          26.50            98.87   \n",
      "4           ...                    22.54          16.67           152.20   \n",
      "\n",
      "   area_worst  smoothness_worst  compactness_worst  concavity_worst  \\\n",
      "0      2019.0            0.1622             0.6656           0.7119   \n",
      "1      1956.0            0.1238             0.1866           0.2416   \n",
      "2      1709.0            0.1444             0.4245           0.4504   \n",
      "3       567.7            0.2098             0.8663           0.6869   \n",
      "4      1575.0            0.1374             0.2050           0.4000   \n",
      "\n",
      "   concave points_worst  symmetry_worst  fractal_dimension_worst  \n",
      "0                0.2654          0.4601                  0.11890  \n",
      "1                0.1860          0.2750                  0.08902  \n",
      "2                0.2430          0.3613                  0.08758  \n",
      "3                0.2575          0.6638                  0.17300  \n",
      "4                0.1625          0.2364                  0.07678  \n",
      "\n",
      "[5 rows x 32 columns]\n",
      "Breast cancer - decision tree\n",
      "test :  0.9385964912280702\n",
      "train :  1.0\n"
     ]
    }
   ],
   "source": [
    "import numpy as np\n",
    "import pandas as pd\n",
    "#from sklearn.datasets import load_breast_cancer\n",
    "import mglearn\n",
    "from sklearn.model_selection import train_test_split\n",
    "#from sklearn.linear_model import LinearRegression\n",
    "from sklearn import tree\n",
    "\n",
    "\n",
    "df = pd.read_csv('breast_cancer.csv')\n",
    "print(df.head())\n",
    "\n",
    "x = df.drop(columns = 'diagnosis',axis=1)\n",
    "y = df[['diagnosis']].values\n",
    "\n",
    "x_train,x_test,y_train,y_test = train_test_split(x,y,test_size = 0.2,random_state=0)\n",
    "\n",
    "clf = tree.DecisionTreeClassifier()\n",
    "clf.fit(x_train,y_train)\n",
    "\n",
    "test_accuracy = clf.score(x_test,y_test)\n",
    "train_accuracy = clf.score(x_train,y_train)\n",
    "\n",
    "print(\"Breast cancer - decision tree\")\n",
    "print(\"test : \",test_accuracy)\n",
    "print(\"train : \",train_accuracy)\n"
   ]
  },
  {
   "cell_type": "code",
   "execution_count": 1,
   "metadata": {},
   "outputs": [],
   "source": [
    "#cross validation-create mutiple train and test\n",
    "#k-fold cross validation-5 or 10 is a good size\n",
    "#Everytime we run the model, the train and test set changes."
   ]
  },
  {
   "cell_type": "code",
   "execution_count": null,
   "metadata": {},
   "outputs": [],
   "source": [
    "#SimpleGridSearch-optimizing the parameter\n",
    "#depth  2 to 10- the more u go deep the more it starts overfitting\n",
    "#split 2 to 5\n",
    "#leaf 5 to 20\n",
    "#1152 trees\n",
    "#best score=0.95\n",
    "#This best score is before applying cross validation and grid search\n",
    "\n",
    "#After applying both we get 5000 trees\n",
    "#function named gridsearchcv from sklearn model selection\n",
    "#Pass it through a param grid which is a dictionary object\n",
    "#The names given in param grid should be same as the parameters\n",
    "#gives a score of 0.92\n",
    "\n",
    "#Explore the wine dataset\n",
    "#Apply grid search\n",
    "\n",
    "#binning\n",
    "#reduce the range\n",
    "#grid searc with cross validation gives better\n",
    "#\n",
    "#\n",
    "#"
   ]
  }
 ],
 "metadata": {
  "kernelspec": {
   "display_name": "Python 3",
   "language": "python",
   "name": "python3"
  },
  "language_info": {
   "codemirror_mode": {
    "name": "ipython",
    "version": 3
   },
   "file_extension": ".py",
   "mimetype": "text/x-python",
   "name": "python",
   "nbconvert_exporter": "python",
   "pygments_lexer": "ipython3",
   "version": "3.6.5"
  }
 },
 "nbformat": 4,
 "nbformat_minor": 2
}
